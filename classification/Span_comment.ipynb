{
 "cells": [
  {
   "cell_type": "code",
   "execution_count": 2,
   "metadata": {},
   "outputs": [],
   "source": [
    "import pandas as pd\n",
    "import numpy as np\n",
    "from sklearn.feature_extraction.text import CountVectorizer\n",
    "from sklearn.model_selection import train_test_split\n",
    "from sklearn.naive_bayes import BernoulliNB"
   ]
  },
  {
   "cell_type": "code",
   "execution_count": 3,
   "metadata": {},
   "outputs": [
    {
     "name": "stdout",
     "output_type": "stream",
     "text": [
      "                                      COMMENT_ID            AUTHOR  \\\n",
      "73             z12lubwrvv35zpzub23ywxbbiuawjbalc    Ariel Baptista   \n",
      "34           z13kxpqqssa0hlryd04cc1dxeyyngljjngk      Tasha Lucius   \n",
      "273            z13fib54ilj0ix3ln23cy5h41xi0hduex  The O'dowd Crowd   \n",
      "26   LZQPQhLyRh9vw01Xvvw5yWzZEUOPG1hSgRMHep55-Yw        8-BitMusic   \n",
      "69   LZQPQhLyRh_hbykd_Xw4oDROJbJTFrs-UbSB2xk8gRk         OREOGAM3R   \n",
      "\n",
      "                    DATE                                            CONTENT  \\\n",
      "73   2014-11-02T05:06:46  http://www.ebay.com/itm/131338190916?ssPageNam...   \n",
      "34   2014-01-19T13:25:56                          2 billion....Coming soon﻿   \n",
      "273  2014-11-08T06:53:38  Come and watch my video it is called the odowd...   \n",
      "26   2013-12-27T23:07:50  Hey guys! Im a 12 yr old music producer. I mak...   \n",
      "69   2014-01-25T19:36:25              It's been back for quite a while now.   \n",
      "\n",
      "     CLASS  \n",
      "73       1  \n",
      "34       0  \n",
      "273      1  \n",
      "26       1  \n",
      "69       0  \n"
     ]
    }
   ],
   "source": [
    "data = pd.read_csv(\"Youtube01-Psy.csv\")\n",
    "print(data.sample(5))"
   ]
  },
  {
   "cell_type": "code",
   "execution_count": 4,
   "metadata": {},
   "outputs": [
    {
     "name": "stdout",
     "output_type": "stream",
     "text": [
      "                                               CONTENT  CLASS\n",
      "180  This is the best, funny and viral video of his...      0\n",
      "2               just for test I have to say murdev.com      1\n",
      "110  EHI GUYS CAN YOU SUBSCRIBE IN MY CHANNEL? I AM...      1\n",
      "124  guys please subscribe me to help my channel gr...      1\n",
      "5    Hey, check out my new website!! This site is a...      1\n"
     ]
    }
   ],
   "source": [
    "data = data[[\"CONTENT\", \"CLASS\"]]\n",
    "print(data.sample(5))"
   ]
  },
  {
   "cell_type": "code",
   "execution_count": 5,
   "metadata": {},
   "outputs": [
    {
     "name": "stdout",
     "output_type": "stream",
     "text": [
      "                                               CONTENT         CLASS\n",
      "185  It's so funny it's awesomeness lol aaaaaaa sex...      Not Spam\n",
      "170        Subscribe to me and I'll subscribe back!!!﻿  Spam Comment\n",
      "285  If I knew Korean, this would be even funnier. ...      Not Spam\n",
      "18        http://ubuntuone.com/40beUutVu2ZKxK4uTgPZ8K﻿  Spam Comment\n",
      "7    i turned it on mute as soon is i came on i jus...      Not Spam\n"
     ]
    }
   ],
   "source": [
    "data[\"CLASS\"] = data[\"CLASS\"].map({0: \"Not Spam\",\n",
    "                                   1: \"Spam Comment\"})\n",
    "print(data.sample(5))"
   ]
  },
  {
   "cell_type": "code",
   "execution_count": 6,
   "metadata": {},
   "outputs": [
    {
     "name": "stdout",
     "output_type": "stream",
     "text": [
      "0.9857142857142858\n"
     ]
    }
   ],
   "source": [
    "x = np.array(data[\"CONTENT\"])\n",
    "y = np.array(data[\"CLASS\"])\n",
    "\n",
    "cv = CountVectorizer()\n",
    "x = cv.fit_transform(x)\n",
    "xtrain, xtest, ytrain, ytest = train_test_split(x, y, \n",
    "                                                test_size=0.2, \n",
    "                                                random_state=42)\n",
    "\n",
    "model = BernoulliNB()\n",
    "model.fit(xtrain, ytrain)\n",
    "print(model.score(xtest, ytest))"
   ]
  },
  {
   "cell_type": "code",
   "execution_count": 7,
   "metadata": {},
   "outputs": [
    {
     "name": "stdout",
     "output_type": "stream",
     "text": [
      "['Spam Comment']\n"
     ]
    }
   ],
   "source": [
    "sample = \"Check this out: https://thecleverprogrammer.com/\" \n",
    "data = cv.transform([sample]).toarray()\n",
    "print(model.predict(data))"
   ]
  }
 ],
 "metadata": {
  "kernelspec": {
   "display_name": "Python 3",
   "language": "python",
   "name": "python3"
  },
  "language_info": {
   "codemirror_mode": {
    "name": "ipython",
    "version": 3
   },
   "file_extension": ".py",
   "mimetype": "text/x-python",
   "name": "python",
   "nbconvert_exporter": "python",
   "pygments_lexer": "ipython3",
   "version": "3.12.1"
  }
 },
 "nbformat": 4,
 "nbformat_minor": 2
}
